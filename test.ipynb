{
 "cells": [
  {
   "cell_type": "code",
   "execution_count": 1,
   "metadata": {},
   "outputs": [
    {
     "name": "stdout",
     "output_type": "stream",
     "text": [
      "Wyczyszczony DataFrame został zapisany do used_cars_clean_v2.csv\n"
     ]
    }
   ],
   "source": [
    "import pandas as pd\n",
    "from pycaret.classification import setup, compare_models, finalize_model, save_model\n",
    "import re\n",
    "import numpy as np\n",
    "\n",
    "# 📌 Wczytanie danych z plików CSV\n",
    "files = [\"used_cars_clean.csv\"]\n",
    "dfs = [pd.read_csv(file) for file in files]\n",
    "df = pd.concat(dfs, ignore_index=True)\n",
    "current_year = 2025\n",
    "df['wiek'] = current_year - df['model_year'].astype(int)\n",
    "#df.drop('model_year', axis=1, inplace=True)\n",
    "\n",
    "df['milage'] = df['milage'].astype(str).str.replace(' mi.', '', regex=False).str.replace(',', '', regex=False).astype(float)\n",
    "df['price'] = df['price'].astype(str).str.replace('$', '', regex=False).str.replace(',', '', regex=False).astype(float)\n",
    "\n",
    "def extract_engine_features(engine_str):\n",
    "    hp_match = re.search(r'(\\d+\\.0)HP', engine_str) or re.search(r'(\\d+)HP', engine_str)\n",
    "    hp = float(hp_match.group(1)) if hp_match else None\n",
    "\n",
    "    liters_match = re.search(r'(\\d+\\.\\d)L', engine_str)\n",
    "    liters = float(liters_match.group(1)) if liters_match else None\n",
    "\n",
    "    cylinder_match = re.search(r'(\\d+) Cylinder', engine_str) or re.search(r'(\\d+) Cylinder Engine', engine_str) or re.search(r'(\\d+) Straight', engine_str) or re.search(r'(\\d+) Flat', engine_str) or re.search(r'(\\d+) Rotary', engine_str)\n",
    "    cylinders = int(cylinder_match.group(1)) if cylinder_match else None\n",
    "\n",
    "    fuel_type_match = re.search(r'(Gasoline|Flex Fuel|Hybrid|Plug-In Hybrid|Diesel|Electric|Hydrogen)', engine_str, re.IGNORECASE)\n",
    "    fuel = fuel_type_match.group(1) if fuel_type_match else None\n",
    "\n",
    "    return pd.Series({'engine_hp': hp, 'engine_liters': liters, 'engine_cylinders': cylinders, 'engine_fuel': fuel})\n",
    "\n",
    "df[['engine_hp', 'engine_liters', 'engine_cylinders', 'engine_fuel']] = df['engine'].apply(extract_engine_features)\n",
    "df.drop('engine', axis=1, inplace=True)\n",
    "\n",
    "# Oblicz medianę kolumny 'engine_hp'\n",
    "median_engine_hp = df['engine_hp'].median()\n",
    "\n",
    "# Wypełnij brakujące wartości w kolumnie 'engine_hp' medianą\n",
    "df['engine_hp'].fillna(median_engine_hp, inplace=True)\n",
    "\n",
    "# Usuń wiersze z liczbą cylindrów mniejszą niż 3 lub większą niż 10\n",
    "df = df[(df['engine_cylinders'] > 3) & (df['engine_cylinders'] < 10)]\n",
    "\n",
    "# Zastosuj transformację logarytmiczną do kolumny 'engine_liters'\n",
    "df['engine_liters_log'] = np.log(df['engine_liters'] + 1e-9)\n",
    "\n",
    "# Usuń oryginalną kolumnę 'engine_liters'\n",
    "df.drop('engine_liters', axis=1, inplace=True)\n",
    "\n",
    "# Usuń wiersze z brakującymi wartościami w 'engine_fuel'\n",
    "df.dropna(subset=['engine_fuel'], inplace=True)\n",
    "\n",
    "# Usuń wiersze z brakującymi wartościami w 'engine_liters_log'\n",
    "df.dropna(subset=['engine_liters_log'], inplace=True)\n",
    "\n",
    "# Zapisz wyczyszczony DataFrame do pliku CSV\n",
    "cleaned_filename = 'used_cars_clean_v2.csv'\n",
    "df.to_csv(cleaned_filename, index=False)\n",
    "print(f\"Wyczyszczony DataFrame został zapisany do {cleaned_filename}\")\n"
   ]
  }
 ],
 "metadata": {
  "kernelspec": {
   "display_name": "used_cars_env",
   "language": "python",
   "name": "python3"
  },
  "language_info": {
   "codemirror_mode": {
    "name": "ipython",
    "version": 3
   },
   "file_extension": ".py",
   "mimetype": "text/x-python",
   "name": "python",
   "nbconvert_exporter": "python",
   "pygments_lexer": "ipython3",
   "version": "3.11.11"
  }
 },
 "nbformat": 4,
 "nbformat_minor": 2
}
